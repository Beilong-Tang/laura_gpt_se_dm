{
 "cells": [
  {
   "cell_type": "code",
   "execution_count": 15,
   "metadata": {},
   "outputs": [],
   "source": [
    "import librosa\n",
    "import soundfile as sf\n",
    "from IPython.display import Audio"
   ]
  },
  {
   "cell_type": "code",
   "execution_count": 20,
   "metadata": {},
   "outputs": [],
   "source": [
    "name = \"yushanzhen_16k.wav\"\n",
    "audio, sr = librosa.load(name, sr = None)\n",
    "assert sr == 16000\n",
    "start_second = 3.0\n",
    "end_second = 30 \n",
    "new_audio = audio[int(start_second * sr) : int(end_second * sr)]\n",
    "Audio(new_audio, rate=sr)\n",
    "sf.write(f\"{name.replace('.wav', '')}_processd.wav\", new_audio, samplerate= sr)"
   ]
  },
  {
   "cell_type": "code",
   "execution_count": 23,
   "metadata": {},
   "outputs": [],
   "source": [
    "name = \"xinluyin_16k.wav\"\n",
    "audio, sr = librosa.load(name, sr = None)\n",
    "assert sr == 16000\n",
    "start_second = 4.6\n",
    "end_second = 31.2\n",
    "new_audio = audio[int(start_second * sr) : int(end_second * sr)]\n",
    "Audio(new_audio, rate=sr)\n",
    "sf.write(f\"{name.replace('.wav', '')}_processd.wav\", new_audio, samplerate= sr)"
   ]
  }
 ],
 "metadata": {
  "kernelspec": {
   "display_name": "Python 3",
   "language": "python",
   "name": "python3"
  },
  "language_info": {
   "codemirror_mode": {
    "name": "ipython",
    "version": 3
   },
   "file_extension": ".py",
   "mimetype": "text/x-python",
   "name": "python",
   "nbconvert_exporter": "python",
   "pygments_lexer": "ipython3",
   "version": "3.9.6"
  }
 },
 "nbformat": 4,
 "nbformat_minor": 2
}

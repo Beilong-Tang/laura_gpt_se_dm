{
 "cells": [
  {
   "cell_type": "code",
   "execution_count": 33,
   "metadata": {},
   "outputs": [],
   "source": [
    "import librosa\n",
    "import soundfile as sf\n",
    "from IPython.display import Audio\n",
    "from pathlib import Path\n",
    "import os"
   ]
  },
  {
   "cell_type": "markdown",
   "metadata": {},
   "source": [
    "# Extract corresponding speakers"
   ]
  },
  {
   "cell_type": "code",
   "execution_count": 67,
   "metadata": {},
   "outputs": [],
   "source": [
    "def extract_spk(audio_path, start_second:float, end_second:float, spk_id: int, output_dir:str):\n",
    "    # Delete the audio corresponding to the spk\n",
    "    audio_name=Path(audio_path).stem\n",
    "    if os.path.exists(output_dir):\n",
    "        for file in os.listdir(output_dir):\n",
    "            if file.startswith(f\"{audio_name}_{spk_id}st_\"):\n",
    "                print(f\"removing file {file}\")\n",
    "                os.remove(Path(output_dir) / file)\n",
    "    else:\n",
    "        os.makedirs(output_dir,exist_ok=True)\n",
    "    audio, sr = librosa.load(audio_path)\n",
    "    new_audio = audio[int(start_second * sr) : int(end_second * sr)]\n",
    "    output_path = Path(output_dir) / f\"{audio_name}_{spk_id}st_{start_second}_{end_second}.wav\"\n",
    "    sf.write(output_path, new_audio, samplerate= sr)"
   ]
  },
  {
   "cell_type": "markdown",
   "metadata": {},
   "source": [
    "## Extract audio file yushanzhen_16k_processed"
   ]
  },
  {
   "cell_type": "code",
   "execution_count": 68,
   "metadata": {},
   "outputs": [],
   "source": [
    "output_dir=r\"split\\yushanzhen_16k_processed\"\n",
    "audio_path=r\"yushanzhen_16k_processed.wav\""
   ]
  },
  {
   "cell_type": "code",
   "execution_count": 69,
   "metadata": {},
   "outputs": [],
   "source": [
    "# 1st spk\n",
    "spk_id=1\n",
    "start_second=0.0\n",
    "end_second=6.0\n",
    "extract_spk(audio_path, start_second, end_second, spk_id=spk_id, output_dir=output_dir)\n",
    "\n",
    "\n",
    "# 2nd spk\n",
    "spk_id=2\n",
    "start_second=6.0\n",
    "end_second=9.8\n",
    "extract_spk(audio_path, start_second, end_second, spk_id=spk_id, output_dir=output_dir)\n",
    "\n",
    "# 3rd spk\n",
    "spk_id=3\n",
    "start_second=9.8\n",
    "end_second=13.1\n",
    "extract_spk(audio_path, start_second, end_second, spk_id=spk_id, output_dir=output_dir)\n",
    "\n",
    "# 4th spk\n",
    "spk_id=4\n",
    "start_second=13.1\n",
    "end_second=16.2\n",
    "extract_spk(audio_path, start_second, end_second, spk_id=spk_id, output_dir=output_dir)\n",
    "\n",
    "\n",
    "# 5th spk\n",
    "spk_id=5\n",
    "start_second=16.2\n",
    "end_second=18.7\n",
    "extract_spk(audio_path, start_second, end_second, spk_id=spk_id, output_dir=output_dir)\n",
    "\n",
    "# 6th spk\n",
    "spk_id=6\n",
    "start_second=18.7\n",
    "end_second=21.8\n",
    "extract_spk(audio_path, start_second, end_second, spk_id=spk_id, output_dir=output_dir)\n",
    "\n",
    "\n",
    "# 7th spk\n",
    "spk_id=7\n",
    "start_second=21.8\n",
    "end_second=24.5\n",
    "extract_spk(audio_path, start_second, end_second, spk_id=spk_id, output_dir=output_dir)"
   ]
  },
  {
   "cell_type": "code",
   "execution_count": null,
   "metadata": {},
   "outputs": [],
   "source": [
    "output_dir=r\"split\\yushanzhen_16k_processed\"\n",
    "audio_path=r\"yushanzhen_16k_processed.wav\""
   ]
  },
  {
   "cell_type": "code",
   "execution_count": null,
   "metadata": {},
   "outputs": [],
   "source": [
    "# 1st spk\n",
    "spk_id=1\n",
    "start_second=0.0\n",
    "end_second=6.0\n",
    "extract_spk(audio_path, start_second, end_second, spk_id=spk_id, output_dir=output_dir)\n",
    "\n",
    "\n",
    "# 2nd spk\n",
    "spk_id=2\n",
    "start_second=6.0\n",
    "end_second=9.8\n",
    "extract_spk(audio_path, start_second, end_second, spk_id=spk_id, output_dir=output_dir)\n",
    "\n",
    "# 3rd spk\n",
    "spk_id=3\n",
    "start_second=9.8\n",
    "end_second=13.1\n",
    "extract_spk(audio_path, start_second, end_second, spk_id=spk_id, output_dir=output_dir)\n",
    "\n",
    "# 4th spk\n",
    "spk_id=4\n",
    "start_second=13.1\n",
    "end_second=16.2\n",
    "extract_spk(audio_path, start_second, end_second, spk_id=spk_id, output_dir=output_dir)\n",
    "\n",
    "\n",
    "# 5th spk\n",
    "spk_id=5\n",
    "start_second=16.2\n",
    "end_second=18.7\n",
    "extract_spk(audio_path, start_second, end_second, spk_id=spk_id, output_dir=output_dir)\n",
    "\n",
    "# 6th spk\n",
    "spk_id=6\n",
    "start_second=18.7\n",
    "end_second=21.8\n",
    "extract_spk(audio_path, start_second, end_second, spk_id=spk_id, output_dir=output_dir)\n",
    "\n",
    "\n",
    "# 7th spk\n",
    "spk_id=7\n",
    "start_second=21.8\n",
    "end_second=24.5\n",
    "extract_spk(audio_path, start_second, end_second, spk_id=spk_id, output_dir=output_dir)"
   ]
  }
 ],
 "metadata": {
  "kernelspec": {
   "display_name": "Python 3",
   "language": "python",
   "name": "python3"
  },
  "language_info": {
   "codemirror_mode": {
    "name": "ipython",
    "version": 3
   },
   "file_extension": ".py",
   "mimetype": "text/x-python",
   "name": "python",
   "nbconvert_exporter": "python",
   "pygments_lexer": "ipython3",
   "version": "3.9.6"
  }
 },
 "nbformat": 4,
 "nbformat_minor": 2
}
